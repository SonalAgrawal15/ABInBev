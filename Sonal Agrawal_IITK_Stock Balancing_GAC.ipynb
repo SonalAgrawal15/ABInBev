{
 "cells": [
  {
   "cell_type": "code",
   "execution_count": 9,
   "metadata": {},
   "outputs": [
    {
     "name": "stdout",
     "output_type": "stream",
     "text": [
      "Requirement already satisfied: numpy in c:\\users\\sonal\\anaconda3\\lib\\site-packages (1.19.2)Note: you may need to restart the kernel to use updated packages.\n",
      "\n"
     ]
    }
   ],
   "source": [
    "pip install numpy"
   ]
  },
  {
   "cell_type": "code",
   "execution_count": 3,
   "metadata": {},
   "outputs": [],
   "source": [
    "import numpy as np\n",
    "import matplotlib as mpt\n",
    "import pandas as pd"
   ]
  },
  {
   "cell_type": "code",
   "execution_count": 4,
   "metadata": {},
   "outputs": [],
   "source": [
    "df=pd.read_csv(\"D:\\ABInBev\\Data file1.csv\")"
   ]
  },
  {
   "cell_type": "code",
   "execution_count": 5,
   "metadata": {},
   "outputs": [
    {
     "data": {
      "text/html": [
       "<div>\n",
       "<style scoped>\n",
       "    .dataframe tbody tr th:only-of-type {\n",
       "        vertical-align: middle;\n",
       "    }\n",
       "\n",
       "    .dataframe tbody tr th {\n",
       "        vertical-align: top;\n",
       "    }\n",
       "\n",
       "    .dataframe thead th {\n",
       "        text-align: right;\n",
       "    }\n",
       "</style>\n",
       "<table border=\"1\" class=\"dataframe\">\n",
       "  <thead>\n",
       "    <tr style=\"text-align: right;\">\n",
       "      <th></th>\n",
       "      <th>Supply Site</th>\n",
       "      <th>Supply Site Code</th>\n",
       "      <th>SKU</th>\n",
       "      <th>Product Description</th>\n",
       "      <th>Location Code</th>\n",
       "      <th>Location Description</th>\n",
       "      <th>Location Type</th>\n",
       "      <th>MinDOC (Hl)</th>\n",
       "      <th>Reorder Point (Hl)</th>\n",
       "      <th>MaxDOC (Hl)</th>\n",
       "      <th>Closing Stock</th>\n",
       "      <th>Distributor Orders</th>\n",
       "      <th>Current CS/MIN</th>\n",
       "      <th>Current CS/ROP</th>\n",
       "      <th>Current CS/MAX</th>\n",
       "      <th>Available to Deploy</th>\n",
       "      <th>Scenario</th>\n",
       "    </tr>\n",
       "  </thead>\n",
       "  <tbody>\n",
       "    <tr>\n",
       "      <th>0</th>\n",
       "      <td>SAB Chamdor Brewery</td>\n",
       "      <td>1506</td>\n",
       "      <td>85024</td>\n",
       "      <td>CBL 340ml NRB</td>\n",
       "      <td>1506</td>\n",
       "      <td>Chamdor Depot</td>\n",
       "      <td>DEP</td>\n",
       "      <td>3230.3</td>\n",
       "      <td>40349.9</td>\n",
       "      <td>54914.3</td>\n",
       "      <td>0.00</td>\n",
       "      <td>0</td>\n",
       "      <td>0.000</td>\n",
       "      <td>0.000</td>\n",
       "      <td>0.000</td>\n",
       "      <td>24081.3</td>\n",
       "      <td>3</td>\n",
       "    </tr>\n",
       "    <tr>\n",
       "      <th>1</th>\n",
       "      <td>SAB Chamdor Brewery</td>\n",
       "      <td>1506</td>\n",
       "      <td>85024</td>\n",
       "      <td>CBL 340ml NRB</td>\n",
       "      <td>1832</td>\n",
       "      <td>Hartswater Depot</td>\n",
       "      <td>DEP</td>\n",
       "      <td>141.5</td>\n",
       "      <td>534.3</td>\n",
       "      <td>1241.8</td>\n",
       "      <td>0.00</td>\n",
       "      <td>0</td>\n",
       "      <td>0.000</td>\n",
       "      <td>0.000</td>\n",
       "      <td>0.000</td>\n",
       "      <td>24081.3</td>\n",
       "      <td>3</td>\n",
       "    </tr>\n",
       "    <tr>\n",
       "      <th>2</th>\n",
       "      <td>SAB Chamdor Brewery</td>\n",
       "      <td>1506</td>\n",
       "      <td>85024</td>\n",
       "      <td>CBL 340ml NRB</td>\n",
       "      <td>1838</td>\n",
       "      <td>Phuthaditjhaba Depot</td>\n",
       "      <td>DEP</td>\n",
       "      <td>59.7</td>\n",
       "      <td>184.3</td>\n",
       "      <td>418.9</td>\n",
       "      <td>321.82</td>\n",
       "      <td>0</td>\n",
       "      <td>5.580</td>\n",
       "      <td>1.765</td>\n",
       "      <td>0.787</td>\n",
       "      <td>24081.3</td>\n",
       "      <td>3</td>\n",
       "    </tr>\n",
       "    <tr>\n",
       "      <th>3</th>\n",
       "      <td>SAB Chamdor Brewery</td>\n",
       "      <td>1506</td>\n",
       "      <td>85024</td>\n",
       "      <td>CBL 340ml NRB</td>\n",
       "      <td>1836</td>\n",
       "      <td>Potchefstroom Depot</td>\n",
       "      <td>DEP</td>\n",
       "      <td>225.7</td>\n",
       "      <td>971.4</td>\n",
       "      <td>2440.6</td>\n",
       "      <td>2279.63</td>\n",
       "      <td>0</td>\n",
       "      <td>10.188</td>\n",
       "      <td>2.352</td>\n",
       "      <td>0.938</td>\n",
       "      <td>24081.3</td>\n",
       "      <td>3</td>\n",
       "    </tr>\n",
       "    <tr>\n",
       "      <th>4</th>\n",
       "      <td>SAB Chamdor Brewery</td>\n",
       "      <td>1506</td>\n",
       "      <td>85024</td>\n",
       "      <td>CBL 340ml NRB</td>\n",
       "      <td>1610</td>\n",
       "      <td>Standerton Depot</td>\n",
       "      <td>DEP</td>\n",
       "      <td>84.1</td>\n",
       "      <td>207.7</td>\n",
       "      <td>449.2</td>\n",
       "      <td>624.33</td>\n",
       "      <td>0</td>\n",
       "      <td>7.605</td>\n",
       "      <td>3.035</td>\n",
       "      <td>1.421</td>\n",
       "      <td>24081.3</td>\n",
       "      <td>3</td>\n",
       "    </tr>\n",
       "  </tbody>\n",
       "</table>\n",
       "</div>"
      ],
      "text/plain": [
       "           Supply Site  Supply Site Code    SKU Product Description  \\\n",
       "0  SAB Chamdor Brewery              1506  85024       CBL 340ml NRB   \n",
       "1  SAB Chamdor Brewery              1506  85024       CBL 340ml NRB   \n",
       "2  SAB Chamdor Brewery              1506  85024       CBL 340ml NRB   \n",
       "3  SAB Chamdor Brewery              1506  85024       CBL 340ml NRB   \n",
       "4  SAB Chamdor Brewery              1506  85024       CBL 340ml NRB   \n",
       "\n",
       "   Location Code  Location Description Location Type  MinDOC (Hl)  \\\n",
       "0           1506         Chamdor Depot           DEP       3230.3   \n",
       "1           1832      Hartswater Depot           DEP        141.5   \n",
       "2           1838  Phuthaditjhaba Depot           DEP         59.7   \n",
       "3           1836   Potchefstroom Depot           DEP        225.7   \n",
       "4           1610      Standerton Depot           DEP         84.1   \n",
       "\n",
       "   Reorder Point (Hl)  MaxDOC (Hl)  Closing Stock  Distributor Orders  \\\n",
       "0             40349.9      54914.3           0.00                   0   \n",
       "1               534.3       1241.8           0.00                   0   \n",
       "2               184.3        418.9         321.82                   0   \n",
       "3               971.4       2440.6        2279.63                   0   \n",
       "4               207.7        449.2         624.33                   0   \n",
       "\n",
       "   Current CS/MIN  Current CS/ROP  Current CS/MAX  Available to Deploy  \\\n",
       "0           0.000           0.000           0.000              24081.3   \n",
       "1           0.000           0.000           0.000              24081.3   \n",
       "2           5.580           1.765           0.787              24081.3   \n",
       "3          10.188           2.352           0.938              24081.3   \n",
       "4           7.605           3.035           1.421              24081.3   \n",
       "\n",
       "   Scenario  \n",
       "0         3  \n",
       "1         3  \n",
       "2         3  \n",
       "3         3  \n",
       "4         3  "
      ]
     },
     "execution_count": 5,
     "metadata": {},
     "output_type": "execute_result"
    }
   ],
   "source": [
    "df.head()"
   ]
  },
  {
   "cell_type": "code",
   "execution_count": 24,
   "metadata": {},
   "outputs": [
    {
     "data": {
      "text/html": [
       "<div>\n",
       "<style scoped>\n",
       "    .dataframe tbody tr th:only-of-type {\n",
       "        vertical-align: middle;\n",
       "    }\n",
       "\n",
       "    .dataframe tbody tr th {\n",
       "        vertical-align: top;\n",
       "    }\n",
       "\n",
       "    .dataframe thead th {\n",
       "        text-align: right;\n",
       "    }\n",
       "</style>\n",
       "<table border=\"1\" class=\"dataframe\">\n",
       "  <thead>\n",
       "    <tr style=\"text-align: right;\">\n",
       "      <th></th>\n",
       "      <th>Supply Site Code</th>\n",
       "      <th>SKU</th>\n",
       "      <th>Location Code</th>\n",
       "      <th>Location Type</th>\n",
       "      <th>MinDOC (Hl)</th>\n",
       "      <th>Reorder Point (Hl)</th>\n",
       "      <th>MaxDOC (Hl)</th>\n",
       "      <th>Closing Stock</th>\n",
       "      <th>Distributor Orders</th>\n",
       "      <th>Current CS/MIN</th>\n",
       "      <th>Current CS/ROP</th>\n",
       "      <th>Current CS/MAX</th>\n",
       "      <th>Available to Deploy</th>\n",
       "      <th>Scenario</th>\n",
       "    </tr>\n",
       "  </thead>\n",
       "  <tbody>\n",
       "    <tr>\n",
       "      <th>0</th>\n",
       "      <td>1506</td>\n",
       "      <td>85024</td>\n",
       "      <td>1506</td>\n",
       "      <td>DEP</td>\n",
       "      <td>3230.3</td>\n",
       "      <td>40349.9</td>\n",
       "      <td>54914.3</td>\n",
       "      <td>0.00</td>\n",
       "      <td>0</td>\n",
       "      <td>0.000</td>\n",
       "      <td>0.000</td>\n",
       "      <td>0.000</td>\n",
       "      <td>24081.3</td>\n",
       "      <td>3</td>\n",
       "    </tr>\n",
       "    <tr>\n",
       "      <th>1</th>\n",
       "      <td>1506</td>\n",
       "      <td>85024</td>\n",
       "      <td>1832</td>\n",
       "      <td>DEP</td>\n",
       "      <td>141.5</td>\n",
       "      <td>534.3</td>\n",
       "      <td>1241.8</td>\n",
       "      <td>0.00</td>\n",
       "      <td>0</td>\n",
       "      <td>0.000</td>\n",
       "      <td>0.000</td>\n",
       "      <td>0.000</td>\n",
       "      <td>24081.3</td>\n",
       "      <td>3</td>\n",
       "    </tr>\n",
       "    <tr>\n",
       "      <th>2</th>\n",
       "      <td>1506</td>\n",
       "      <td>85024</td>\n",
       "      <td>1838</td>\n",
       "      <td>DEP</td>\n",
       "      <td>59.7</td>\n",
       "      <td>184.3</td>\n",
       "      <td>418.9</td>\n",
       "      <td>321.82</td>\n",
       "      <td>0</td>\n",
       "      <td>5.580</td>\n",
       "      <td>1.765</td>\n",
       "      <td>0.787</td>\n",
       "      <td>24081.3</td>\n",
       "      <td>3</td>\n",
       "    </tr>\n",
       "    <tr>\n",
       "      <th>3</th>\n",
       "      <td>1506</td>\n",
       "      <td>85024</td>\n",
       "      <td>1836</td>\n",
       "      <td>DEP</td>\n",
       "      <td>225.7</td>\n",
       "      <td>971.4</td>\n",
       "      <td>2440.6</td>\n",
       "      <td>2279.63</td>\n",
       "      <td>0</td>\n",
       "      <td>10.188</td>\n",
       "      <td>2.352</td>\n",
       "      <td>0.938</td>\n",
       "      <td>24081.3</td>\n",
       "      <td>3</td>\n",
       "    </tr>\n",
       "    <tr>\n",
       "      <th>4</th>\n",
       "      <td>1506</td>\n",
       "      <td>85024</td>\n",
       "      <td>1610</td>\n",
       "      <td>DEP</td>\n",
       "      <td>84.1</td>\n",
       "      <td>207.7</td>\n",
       "      <td>449.2</td>\n",
       "      <td>624.33</td>\n",
       "      <td>0</td>\n",
       "      <td>7.605</td>\n",
       "      <td>3.035</td>\n",
       "      <td>1.421</td>\n",
       "      <td>24081.3</td>\n",
       "      <td>3</td>\n",
       "    </tr>\n",
       "  </tbody>\n",
       "</table>\n",
       "</div>"
      ],
      "text/plain": [
       "   Supply Site Code    SKU  Location Code Location Type  MinDOC (Hl)  \\\n",
       "0              1506  85024           1506           DEP       3230.3   \n",
       "1              1506  85024           1832           DEP        141.5   \n",
       "2              1506  85024           1838           DEP         59.7   \n",
       "3              1506  85024           1836           DEP        225.7   \n",
       "4              1506  85024           1610           DEP         84.1   \n",
       "\n",
       "   Reorder Point (Hl)  MaxDOC (Hl)  Closing Stock  Distributor Orders  \\\n",
       "0             40349.9      54914.3           0.00                   0   \n",
       "1               534.3       1241.8           0.00                   0   \n",
       "2               184.3        418.9         321.82                   0   \n",
       "3               971.4       2440.6        2279.63                   0   \n",
       "4               207.7        449.2         624.33                   0   \n",
       "\n",
       "   Current CS/MIN  Current CS/ROP  Current CS/MAX  Available to Deploy  \\\n",
       "0           0.000           0.000           0.000              24081.3   \n",
       "1           0.000           0.000           0.000              24081.3   \n",
       "2           5.580           1.765           0.787              24081.3   \n",
       "3          10.188           2.352           0.938              24081.3   \n",
       "4           7.605           3.035           1.421              24081.3   \n",
       "\n",
       "   Scenario  \n",
       "0         3  \n",
       "1         3  \n",
       "2         3  \n",
       "3         3  \n",
       "4         3  "
      ]
     },
     "execution_count": 24,
     "metadata": {},
     "output_type": "execute_result"
    }
   ],
   "source": [
    "df = df.drop(['Supply Site','Product Description','Location Description'], axis=1)\n",
    "df.head(5)"
   ]
  },
  {
   "cell_type": "code",
   "execution_count": 6,
   "metadata": {},
   "outputs": [
    {
     "data": {
      "text/plain": [
       "Supply Site              object\n",
       "Supply Site Code          int64\n",
       "SKU                       int64\n",
       "Product Description      object\n",
       "Location Code             int64\n",
       "Location Description     object\n",
       "Location Type            object\n",
       "MinDOC (Hl)             float64\n",
       "Reorder Point (Hl)      float64\n",
       "MaxDOC (Hl)             float64\n",
       "Closing Stock           float64\n",
       "Distributor Orders        int64\n",
       "Current CS/MIN          float64\n",
       "Current CS/ROP          float64\n",
       "Current CS/MAX          float64\n",
       "Available to Deploy     float64\n",
       "Scenario                  int64\n",
       "dtype: object"
      ]
     },
     "execution_count": 6,
     "metadata": {},
     "output_type": "execute_result"
    }
   ],
   "source": [
    "df.dtypes"
   ]
  },
  {
   "cell_type": "code",
   "execution_count": 7,
   "metadata": {},
   "outputs": [
    {
     "data": {
      "text/plain": [
       "(3727, 17)"
      ]
     },
     "execution_count": 7,
     "metadata": {},
     "output_type": "execute_result"
    }
   ],
   "source": [
    "df.shape"
   ]
  },
  {
   "cell_type": "code",
   "execution_count": 8,
   "metadata": {},
   "outputs": [
    {
     "name": "stdout",
     "output_type": "stream",
     "text": [
      "number of duplicate rows:  (0, 17)\n"
     ]
    }
   ],
   "source": [
    "duplicate_rows_df = df[df.duplicated()]\n",
    "print(\"number of duplicate rows: \", duplicate_rows_df.shape)"
   ]
  },
  {
   "cell_type": "code",
   "execution_count": 9,
   "metadata": {},
   "outputs": [
    {
     "data": {
      "text/plain": [
       "Supply Site             3727\n",
       "Supply Site Code        3727\n",
       "SKU                     3727\n",
       "Product Description     3727\n",
       "Location Code           3727\n",
       "Location Description    3727\n",
       "Location Type           3727\n",
       "MinDOC (Hl)             3727\n",
       "Reorder Point (Hl)      3727\n",
       "MaxDOC (Hl)             3727\n",
       "Closing Stock           3727\n",
       "Distributor Orders      3727\n",
       "Current CS/MIN          3439\n",
       "Current CS/ROP          3440\n",
       "Current CS/MAX          3440\n",
       "Available to Deploy     3727\n",
       "Scenario                3727\n",
       "dtype: int64"
      ]
     },
     "execution_count": 9,
     "metadata": {},
     "output_type": "execute_result"
    }
   ],
   "source": [
    "df.count()"
   ]
  },
  {
   "cell_type": "code",
   "execution_count": 10,
   "metadata": {},
   "outputs": [
    {
     "name": "stdout",
     "output_type": "stream",
     "text": [
      "Supply Site               0\n",
      "Supply Site Code          0\n",
      "SKU                       0\n",
      "Product Description       0\n",
      "Location Code             0\n",
      "Location Description      0\n",
      "Location Type             0\n",
      "MinDOC (Hl)               0\n",
      "Reorder Point (Hl)        0\n",
      "MaxDOC (Hl)               0\n",
      "Closing Stock             0\n",
      "Distributor Orders        0\n",
      "Current CS/MIN          288\n",
      "Current CS/ROP          287\n",
      "Current CS/MAX          287\n",
      "Available to Deploy       0\n",
      "Scenario                  0\n",
      "dtype: int64\n"
     ]
    }
   ],
   "source": [
    "print(df.isnull().sum())"
   ]
  },
  {
   "cell_type": "code",
   "execution_count": 11,
   "metadata": {},
   "outputs": [
    {
     "data": {
      "text/plain": [
       "Supply Site             3439\n",
       "Supply Site Code        3439\n",
       "SKU                     3439\n",
       "Product Description     3439\n",
       "Location Code           3439\n",
       "Location Description    3439\n",
       "Location Type           3439\n",
       "MinDOC (Hl)             3439\n",
       "Reorder Point (Hl)      3439\n",
       "MaxDOC (Hl)             3439\n",
       "Closing Stock           3439\n",
       "Distributor Orders      3439\n",
       "Current CS/MIN          3439\n",
       "Current CS/ROP          3439\n",
       "Current CS/MAX          3439\n",
       "Available to Deploy     3439\n",
       "Scenario                3439\n",
       "dtype: int64"
      ]
     },
     "execution_count": 11,
     "metadata": {},
     "output_type": "execute_result"
    }
   ],
   "source": [
    "df = df.dropna() \n",
    "df.count()\n"
   ]
  },
  {
   "cell_type": "code",
   "execution_count": 12,
   "metadata": {},
   "outputs": [
    {
     "name": "stdout",
     "output_type": "stream",
     "text": [
      "Supply Site             0\n",
      "Supply Site Code        0\n",
      "SKU                     0\n",
      "Product Description     0\n",
      "Location Code           0\n",
      "Location Description    0\n",
      "Location Type           0\n",
      "MinDOC (Hl)             0\n",
      "Reorder Point (Hl)      0\n",
      "MaxDOC (Hl)             0\n",
      "Closing Stock           0\n",
      "Distributor Orders      0\n",
      "Current CS/MIN          0\n",
      "Current CS/ROP          0\n",
      "Current CS/MAX          0\n",
      "Available to Deploy     0\n",
      "Scenario                0\n",
      "dtype: int64\n"
     ]
    }
   ],
   "source": [
    "print(df.isnull().sum()) "
   ]
  },
  {
   "cell_type": "code",
   "execution_count": 13,
   "metadata": {},
   "outputs": [],
   "source": [
    "import seaborn as sns"
   ]
  },
  {
   "cell_type": "code",
   "execution_count": 14,
   "metadata": {},
   "outputs": [
    {
     "data": {
      "text/plain": [
       "<AxesSubplot:xlabel='Current CS/MIN'>"
      ]
     },
     "execution_count": 14,
     "metadata": {},
     "output_type": "execute_result"
    },
    {
     "data": {
      "image/png": "[encoded data removed]",
      "text/plain": [
       "<Figure size 432x288 with 1 Axes>"
      ]
     },
     "metadata": {
      "needs_background": "light"
     },
     "output_type": "display_data"
    }
   ],
   "source": [
    "sns.boxplot(x=df['Current CS/MIN'])"
   ]
  },
  {
   "cell_type": "code",
   "execution_count": 15,
   "metadata": {},
   "outputs": [
    {
     "data": {
      "text/plain": [
       "<AxesSubplot:xlabel='Current CS/ROP'>"
      ]
     },
     "execution_count": 15,
     "metadata": {},
     "output_type": "execute_result"
    },
    {
     "data": {
      "image/png": "[encoded data removed]",
      "text/plain": [
       "<Figure size 432x288 with 1 Axes>"
      ]
     },
     "metadata": {
      "needs_background": "light"
     },
     "output_type": "display_data"
    }
   ],
   "source": [
    "sns.boxplot(x=df['Current CS/ROP'])"
   ]
  },
  {
   "cell_type": "code",
   "execution_count": 16,
   "metadata": {},
   "outputs": [
    {
     "data": {
      "text/plain": [
       "<AxesSubplot:xlabel='Current CS/MAX'>"
      ]
     },
     "execution_count": 16,
     "metadata": {},
     "output_type": "execute_result"
    },
    {
     "data": {
      "image/png": "[encoded data removed]",
      "text/plain": [
       "<Figure size 432x288 with 1 Axes>"
      ]
     },
     "metadata": {
      "needs_background": "light"
     },
     "output_type": "display_data"
    }
   ],
   "source": [
    "sns.boxplot(x=df['Current CS/MAX'])"
   ]
  },
  {
   "cell_type": "code",
   "execution_count": 19,
   "metadata": {},
   "outputs": [],
   "source": [
    "import matplotlib.pyplot as plt"
   ]
  },
  {
   "cell_type": "code",
   "execution_count": 20,
   "metadata": {},
   "outputs": [
    {
     "data": {
      "text/html": [
       "<div>\n",
       "<style scoped>\n",
       "    .dataframe tbody tr th:only-of-type {\n",
       "        vertical-align: middle;\n",
       "    }\n",
       "\n",
       "    .dataframe tbody tr th {\n",
       "        vertical-align: top;\n",
       "    }\n",
       "\n",
       "    .dataframe thead th {\n",
       "        text-align: right;\n",
       "    }\n",
       "</style>\n",
       "<table border=\"1\" class=\"dataframe\">\n",
       "  <thead>\n",
       "    <tr style=\"text-align: right;\">\n",
       "      <th></th>\n",
       "      <th>Supply Site Code</th>\n",
       "      <th>SKU</th>\n",
       "      <th>Location Code</th>\n",
       "      <th>MinDOC (Hl)</th>\n",
       "      <th>Reorder Point (Hl)</th>\n",
       "      <th>MaxDOC (Hl)</th>\n",
       "      <th>Closing Stock</th>\n",
       "      <th>Distributor Orders</th>\n",
       "      <th>Current CS/MIN</th>\n",
       "      <th>Current CS/ROP</th>\n",
       "      <th>Current CS/MAX</th>\n",
       "      <th>Available to Deploy</th>\n",
       "      <th>Scenario</th>\n",
       "    </tr>\n",
       "  </thead>\n",
       "  <tbody>\n",
       "    <tr>\n",
       "      <th>Supply Site Code</th>\n",
       "      <td>1.000000</td>\n",
       "      <td>-0.212922</td>\n",
       "      <td>0.043270</td>\n",
       "      <td>0.087599</td>\n",
       "      <td>0.054923</td>\n",
       "      <td>0.065137</td>\n",
       "      <td>0.118371</td>\n",
       "      <td>0.035679</td>\n",
       "      <td>-0.016035</td>\n",
       "      <td>-0.020940</td>\n",
       "      <td>-0.019352</td>\n",
       "      <td>-0.088762</td>\n",
       "      <td>-0.159449</td>\n",
       "    </tr>\n",
       "    <tr>\n",
       "      <th>SKU</th>\n",
       "      <td>-0.212922</td>\n",
       "      <td>1.000000</td>\n",
       "      <td>0.007371</td>\n",
       "      <td>-0.124280</td>\n",
       "      <td>-0.035843</td>\n",
       "      <td>-0.076288</td>\n",
       "      <td>-0.098332</td>\n",
       "      <td>-0.073715</td>\n",
       "      <td>0.022934</td>\n",
       "      <td>0.028385</td>\n",
       "      <td>0.025062</td>\n",
       "      <td>-0.045972</td>\n",
       "      <td>0.114769</td>\n",
       "    </tr>\n",
       "    <tr>\n",
       "      <th>Location Code</th>\n",
       "      <td>0.043270</td>\n",
       "      <td>0.007371</td>\n",
       "      <td>1.000000</td>\n",
       "      <td>-0.076940</td>\n",
       "      <td>-0.067814</td>\n",
       "      <td>-0.083890</td>\n",
       "      <td>-0.111769</td>\n",
       "      <td>0.119768</td>\n",
       "      <td>0.053936</td>\n",
       "      <td>0.065651</td>\n",
       "      <td>0.066115</td>\n",
       "      <td>0.017779</td>\n",
       "      <td>-0.022398</td>\n",
       "    </tr>\n",
       "    <tr>\n",
       "      <th>MinDOC (Hl)</th>\n",
       "      <td>0.087599</td>\n",
       "      <td>-0.124280</td>\n",
       "      <td>-0.076940</td>\n",
       "      <td>1.000000</td>\n",
       "      <td>0.667067</td>\n",
       "      <td>0.833936</td>\n",
       "      <td>0.043764</td>\n",
       "      <td>-0.000087</td>\n",
       "      <td>-0.009344</td>\n",
       "      <td>-0.009754</td>\n",
       "      <td>-0.008411</td>\n",
       "      <td>0.130742</td>\n",
       "      <td>0.057182</td>\n",
       "    </tr>\n",
       "    <tr>\n",
       "      <th>Reorder Point (Hl)</th>\n",
       "      <td>0.054923</td>\n",
       "      <td>-0.035843</td>\n",
       "      <td>-0.067814</td>\n",
       "      <td>0.667067</td>\n",
       "      <td>1.000000</td>\n",
       "      <td>0.950941</td>\n",
       "      <td>-0.014874</td>\n",
       "      <td>-0.005372</td>\n",
       "      <td>-0.007708</td>\n",
       "      <td>-0.008114</td>\n",
       "      <td>-0.006834</td>\n",
       "      <td>0.057468</td>\n",
       "      <td>0.028242</td>\n",
       "    </tr>\n",
       "    <tr>\n",
       "      <th>MaxDOC (Hl)</th>\n",
       "      <td>0.065137</td>\n",
       "      <td>-0.076288</td>\n",
       "      <td>-0.083890</td>\n",
       "      <td>0.833936</td>\n",
       "      <td>0.950941</td>\n",
       "      <td>1.000000</td>\n",
       "      <td>0.012816</td>\n",
       "      <td>-0.006309</td>\n",
       "      <td>-0.009277</td>\n",
       "      <td>-0.009768</td>\n",
       "      <td>-0.008336</td>\n",
       "      <td>0.095546</td>\n",
       "      <td>0.042362</td>\n",
       "    </tr>\n",
       "    <tr>\n",
       "      <th>Closing Stock</th>\n",
       "      <td>0.118371</td>\n",
       "      <td>-0.098332</td>\n",
       "      <td>-0.111769</td>\n",
       "      <td>0.043764</td>\n",
       "      <td>-0.014874</td>\n",
       "      <td>0.012816</td>\n",
       "      <td>1.000000</td>\n",
       "      <td>0.016105</td>\n",
       "      <td>0.009745</td>\n",
       "      <td>0.003672</td>\n",
       "      <td>-0.001555</td>\n",
       "      <td>0.116004</td>\n",
       "      <td>-0.009556</td>\n",
       "    </tr>\n",
       "    <tr>\n",
       "      <th>Distributor Orders</th>\n",
       "      <td>0.035679</td>\n",
       "      <td>-0.073715</td>\n",
       "      <td>0.119768</td>\n",
       "      <td>-0.000087</td>\n",
       "      <td>-0.005372</td>\n",
       "      <td>-0.006309</td>\n",
       "      <td>0.016105</td>\n",
       "      <td>1.000000</td>\n",
       "      <td>-0.002749</td>\n",
       "      <td>-0.002826</td>\n",
       "      <td>-0.002221</td>\n",
       "      <td>0.114778</td>\n",
       "      <td>0.050759</td>\n",
       "    </tr>\n",
       "    <tr>\n",
       "      <th>Current CS/MIN</th>\n",
       "      <td>-0.016035</td>\n",
       "      <td>0.022934</td>\n",
       "      <td>0.053936</td>\n",
       "      <td>-0.009344</td>\n",
       "      <td>-0.007708</td>\n",
       "      <td>-0.009277</td>\n",
       "      <td>0.009745</td>\n",
       "      <td>-0.002749</td>\n",
       "      <td>1.000000</td>\n",
       "      <td>0.983609</td>\n",
       "      <td>0.989452</td>\n",
       "      <td>0.031582</td>\n",
       "      <td>0.002922</td>\n",
       "    </tr>\n",
       "    <tr>\n",
       "      <th>Current CS/ROP</th>\n",
       "      <td>-0.020940</td>\n",
       "      <td>0.028385</td>\n",
       "      <td>0.065651</td>\n",
       "      <td>-0.009754</td>\n",
       "      <td>-0.008114</td>\n",
       "      <td>-0.009768</td>\n",
       "      <td>0.003672</td>\n",
       "      <td>-0.002826</td>\n",
       "      <td>0.983609</td>\n",
       "      <td>1.000000</td>\n",
       "      <td>0.997589</td>\n",
       "      <td>0.033226</td>\n",
       "      <td>0.005778</td>\n",
       "    </tr>\n",
       "    <tr>\n",
       "      <th>Current CS/MAX</th>\n",
       "      <td>-0.019352</td>\n",
       "      <td>0.025062</td>\n",
       "      <td>0.066115</td>\n",
       "      <td>-0.008411</td>\n",
       "      <td>-0.006834</td>\n",
       "      <td>-0.008336</td>\n",
       "      <td>-0.001555</td>\n",
       "      <td>-0.002221</td>\n",
       "      <td>0.989452</td>\n",
       "      <td>0.997589</td>\n",
       "      <td>1.000000</td>\n",
       "      <td>0.029563</td>\n",
       "      <td>0.004173</td>\n",
       "    </tr>\n",
       "    <tr>\n",
       "      <th>Available to Deploy</th>\n",
       "      <td>-0.088762</td>\n",
       "      <td>-0.045972</td>\n",
       "      <td>0.017779</td>\n",
       "      <td>0.130742</td>\n",
       "      <td>0.057468</td>\n",
       "      <td>0.095546</td>\n",
       "      <td>0.116004</td>\n",
       "      <td>0.114778</td>\n",
       "      <td>0.031582</td>\n",
       "      <td>0.033226</td>\n",
       "      <td>0.029563</td>\n",
       "      <td>1.000000</td>\n",
       "      <td>0.373680</td>\n",
       "    </tr>\n",
       "    <tr>\n",
       "      <th>Scenario</th>\n",
       "      <td>-0.159449</td>\n",
       "      <td>0.114769</td>\n",
       "      <td>-0.022398</td>\n",
       "      <td>0.057182</td>\n",
       "      <td>0.028242</td>\n",
       "      <td>0.042362</td>\n",
       "      <td>-0.009556</td>\n",
       "      <td>0.050759</td>\n",
       "      <td>0.002922</td>\n",
       "      <td>0.005778</td>\n",
       "      <td>0.004173</td>\n",
       "      <td>0.373680</td>\n",
       "      <td>1.000000</td>\n",
       "    </tr>\n",
       "  </tbody>\n",
       "</table>\n",
       "</div>"
      ],
      "text/plain": [
       "                     Supply Site Code       SKU  Location Code  MinDOC (Hl)  \\\n",
       "Supply Site Code             1.000000 -0.212922       0.043270     0.087599   \n",
       "SKU                         -0.212922  1.000000       0.007371    -0.124280   \n",
       "Location Code                0.043270  0.007371       1.000000    -0.076940   \n",
       "MinDOC (Hl)                  0.087599 -0.124280      -0.076940     1.000000   \n",
       "Reorder Point (Hl)           0.054923 -0.035843      -0.067814     0.667067   \n",
       "MaxDOC (Hl)                  0.065137 -0.076288      -0.083890     0.833936   \n",
       "Closing Stock                0.118371 -0.098332      -0.111769     0.043764   \n",
       "Distributor Orders           0.035679 -0.073715       0.119768    -0.000087   \n",
       "Current CS/MIN              -0.016035  0.022934       0.053936    -0.009344   \n",
       "Current CS/ROP              -0.020940  0.028385       0.065651    -0.009754   \n",
       "Current CS/MAX              -0.019352  0.025062       0.066115    -0.008411   \n",
       "Available to Deploy         -0.088762 -0.045972       0.017779     0.130742   \n",
       "Scenario                    -0.159449  0.114769      -0.022398     0.057182   \n",
       "\n",
       "                     Reorder Point (Hl)  MaxDOC (Hl)  Closing Stock  \\\n",
       "Supply Site Code               0.054923     0.065137       0.118371   \n",
       "SKU                           -0.035843    -0.076288      -0.098332   \n",
       "Location Code                 -0.067814    -0.083890      -0.111769   \n",
       "MinDOC (Hl)                    0.667067     0.833936       0.043764   \n",
       "Reorder Point (Hl)             1.000000     0.950941      -0.014874   \n",
       "MaxDOC (Hl)                    0.950941     1.000000       0.012816   \n",
       "Closing Stock                 -0.014874     0.012816       1.000000   \n",
       "Distributor Orders            -0.005372    -0.006309       0.016105   \n",
       "Current CS/MIN                -0.007708    -0.009277       0.009745   \n",
       "Current CS/ROP                -0.008114    -0.009768       0.003672   \n",
       "Current CS/MAX                -0.006834    -0.008336      -0.001555   \n",
       "Available to Deploy            0.057468     0.095546       0.116004   \n",
       "Scenario                       0.028242     0.042362      -0.009556   \n",
       "\n",
       "                     Distributor Orders  Current CS/MIN  Current CS/ROP  \\\n",
       "Supply Site Code               0.035679       -0.016035       -0.020940   \n",
       "SKU                           -0.073715        0.022934        0.028385   \n",
       "Location Code                  0.119768        0.053936        0.065651   \n",
       "MinDOC (Hl)                   -0.000087       -0.009344       -0.009754   \n",
       "Reorder Point (Hl)            -0.005372       -0.007708       -0.008114   \n",
       "MaxDOC (Hl)                   -0.006309       -0.009277       -0.009768   \n",
       "Closing Stock                  0.016105        0.009745        0.003672   \n",
       "Distributor Orders             1.000000       -0.002749       -0.002826   \n",
       "Current CS/MIN                -0.002749        1.000000        0.983609   \n",
       "Current CS/ROP                -0.002826        0.983609        1.000000   \n",
       "Current CS/MAX                -0.002221        0.989452        0.997589   \n",
       "Available to Deploy            0.114778        0.031582        0.033226   \n",
       "Scenario                       0.050759        0.002922        0.005778   \n",
       "\n",
       "                     Current CS/MAX  Available to Deploy  Scenario  \n",
       "Supply Site Code          -0.019352            -0.088762 -0.159449  \n",
       "SKU                        0.025062            -0.045972  0.114769  \n",
       "Location Code              0.066115             0.017779 -0.022398  \n",
       "MinDOC (Hl)               -0.008411             0.130742  0.057182  \n",
       "Reorder Point (Hl)        -0.006834             0.057468  0.028242  \n",
       "MaxDOC (Hl)               -0.008336             0.095546  0.042362  \n",
       "Closing Stock             -0.001555             0.116004 -0.009556  \n",
       "Distributor Orders        -0.002221             0.114778  0.050759  \n",
       "Current CS/MIN             0.989452             0.031582  0.002922  \n",
       "Current CS/ROP             0.997589             0.033226  0.005778  \n",
       "Current CS/MAX             1.000000             0.029563  0.004173  \n",
       "Available to Deploy        0.029563             1.000000  0.373680  \n",
       "Scenario                   0.004173             0.373680  1.000000  "
      ]
     },
     "execution_count": 20,
     "metadata": {},
     "output_type": "execute_result"
    },
    {
     "data": {
      "image/png": "[encoded data removed]",
      "text/plain": [
       "<Figure size 1440x720 with 2 Axes>"
      ]
     },
     "metadata": {
      "needs_background": "light"
     },
     "output_type": "display_data"
    }
   ],
   "source": [
    "plt.figure(figsize=(20,10))\n",
    "c= df.corr()\n",
    "sns.heatmap(c,cmap=\"BrBG\",annot=True)\n",
    "c"
   ]
  },
  {
   "cell_type": "code",
   "execution_count": 23,
   "metadata": {},
   "outputs": [
    {
     "data": {
      "image/png": "[encoded data removed]",
      "text/plain": [
       "<Figure size 720x360 with 1 Axes>"
      ]
     },
     "metadata": {
      "needs_background": "light"
     },
     "output_type": "display_data"
    }
   ],
   "source": [
    "df.Scenario.value_counts().nlargest(40).plot(kind='bar', figsize=(10,5))\n",
    "plt.title('Number of cases with scenario')\n",
    "plt.ylabel('Number')\n",
    "plt.xlabel('Scenario');"
   ]
  }
 ],
 "metadata": {
  "kernelspec": {
   "display_name": "Python 3",
   "language": "python",
   "name": "python3"
  },
  "language_info": {
   "codemirror_mode": {
    "name": "ipython",
    "version": 3
   },
   "file_extension": ".py",
   "mimetype": "text/x-python",
   "name": "python",
   "nbconvert_exporter": "python",
   "pygments_lexer": "ipython3",
   "version": "3.8.5"
  }
 },
 "nbformat": 4,
 "nbformat_minor": 4
}
